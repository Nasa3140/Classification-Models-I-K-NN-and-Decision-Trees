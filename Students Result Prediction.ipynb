{
  "metadata": {
    "kernelspec": {
      "name": "python",
      "display_name": "Python (Pyodide)",
      "language": "python"
    },
    "language_info": {
      "codemirror_mode": {
        "name": "python",
        "version": 3
      },
      "file_extension": ".py",
      "mimetype": "text/x-python",
      "name": "python",
      "nbconvert_exporter": "python",
      "pygments_lexer": "ipython3",
      "version": "3.8"
    }
  },
  "nbformat_minor": 5,
  "nbformat": 4,
  "cells": [
    {
      "id": "044ea6df-fa16-4bad-bca5-b06f5fbb5066",
      "cell_type": "code",
      "source": "from math import sqrt  # To use the square root function",
      "metadata": {
        "trusted": true
      },
      "outputs": [],
      "execution_count": 1
    },
    {
      "id": "7a0321fa-76c5-41ea-bfb9-827fc9fc78b0",
      "cell_type": "code",
      "source": "# Training data: list of students\nstudents = [\n    {'maths': 4, 'cs': 3, 'result': 'Fail'},\n    {'maths': 6, 'cs': 7, 'result': 'Pass'},\n    {'maths': 7, 'cs': 8, 'result': 'Pass'},\n    {'maths': 5, 'cs': 5, 'result': 'Fail'},\n    {'maths': 8, 'cs': 8, 'result': 'Pass'}\n]",
      "metadata": {
        "trusted": true
      },
      "outputs": [],
      "execution_count": 2
    },
    {
      "id": "cc9e0bed-6915-4707-8192-0cbd58aca135",
      "cell_type": "code",
      "source": "# Query: new student scores\nquery = {'maths': 6, 'cs': 8}",
      "metadata": {
        "trusted": true
      },
      "outputs": [],
      "execution_count": 3
    },
    {
      "id": "d53639f0-6614-412e-83b4-4bada6f60156",
      "cell_type": "code",
      "source": "# Step 1: Calculate distance for each student\nfor student in students:\n    distance = sqrt((query['maths'] - student['maths'])**2 + (query['cs'] - student['cs'])**2)\n    student['distance'] = round(distance, 2)  # Save rounded distance",
      "metadata": {
        "trusted": true
      },
      "outputs": [],
      "execution_count": 4
    },
    {
      "id": "a0f98b9f-58fa-4dd2-9a06-46878f44a1eb",
      "cell_type": "code",
      "source": "# Step 2: Sort students by distance\nstudents_sorted = sorted(students, key=lambda x: x['distance'])",
      "metadata": {
        "trusted": true
      },
      "outputs": [],
      "execution_count": 5
    },
    {
      "id": "721516da-bbb0-42ce-8667-b10fac63dd50",
      "cell_type": "code",
      "source": "# Step 3: Choose K = 3 nearest neighbors\nk = 3\nnearest_neighbors = students_sorted[:k]",
      "metadata": {
        "trusted": true
      },
      "outputs": [],
      "execution_count": 6
    },
    {
      "id": "5b170202-d79c-45fe-b1e6-5fc832ba1be4",
      "cell_type": "code",
      "source": "# Step 4: Count votes\nresults = [neighbor['result'] for neighbor in nearest_neighbors]\nprediction = max(set(results), key=results.count)  # Most common result",
      "metadata": {
        "trusted": true
      },
      "outputs": [],
      "execution_count": 7
    },
    {
      "id": "72ca07ef-e8bd-4730-a602-6e53cba94367",
      "cell_type": "code",
      "source": "print(\"Predicted Result:\", prediction)",
      "metadata": {
        "trusted": true
      },
      "outputs": [
        {
          "name": "stdout",
          "output_type": "stream",
          "text": "Predicted Result: Pass\n"
        }
      ],
      "execution_count": 8
    },
    {
      "id": "f1332ac3-12b2-461b-a665-4e888f38dcb4",
      "cell_type": "code",
      "source": "",
      "metadata": {
        "trusted": true
      },
      "outputs": [],
      "execution_count": null
    }
  ]
}